{
 "cells": [
  {
   "cell_type": "markdown",
   "id": "e52c10c9",
   "metadata": {},
   "source": [
    "nazwa zespołu: Joanna Zakęs \n",
    "\n",
    "członkini zespołu: Joanna Zakęs"
   ]
  },
  {
   "cell_type": "markdown",
   "id": "d7984b24",
   "metadata": {},
   "source": [
    "Do opracowania modelu wykorzystano metodę klasyfikacyjną lasu losowego. \n",
    "\n",
    "Las losowy trenowany był na danych z lat 1992-2022. \n",
    "\n",
    "Przyjęta liczba drzew w lesie 1000. \n",
    "\n",
    "Drzewa w lesie losowym przypisują konkretną drużynę do odpowiedniej klasy (0 - przegrana, 3 - wygrana, 1 - remis) na podstawie różnic jej statystyk ze statystykami drużyny przeciwnej. Las losowy przypisuje konkretną drużynę do odpowiedniej klasy na podstawie uśrednionych wyników wszystkich drzew.\n",
    "\n",
    "Uwzględnione zmienne:\n",
    "- friendly_0 - zmienna binarna; przyjmuje wart. 0 dla meczów towarzyskich, 1 dla meczów w turniejach\n",
    "- pt_diff_H_a - nominalna różnica liczby punktów wg rankingu FIFA (home - away)\n",
    "- pt_diff_H_a_proc - procentowa różnica liczby punktów wg rankingu FIFA (home - away)\n",
    "- win_diff_pproc - różnica między drużynami procenta wygranych meczów wśród 10 ostatnich rozegranych (w punktach procentowych) \n",
    "\n",
    "Wynik przedstawiony jest na końcu pliku."
   ]
  },
  {
   "cell_type": "markdown",
   "id": "7d2baae4",
   "metadata": {},
   "source": [
    "# Import i przygotowanie danych"
   ]
  },
  {
   "cell_type": "markdown",
   "id": "a1a855f2",
   "metadata": {},
   "source": [
    "Importując dane z plików proszę zamienić ścieżkę na odpowiednią dla swojego komputera."
   ]
  },
  {
   "cell_type": "code",
   "execution_count": 1,
   "id": "3b9ec83b",
   "metadata": {},
   "outputs": [],
   "source": [
    "import openpyxl\n",
    "import pandas as pd\n",
    "import numpy as np\n",
    "from sklearn.model_selection import train_test_split\n",
    "from sklearn.ensemble import RandomForestClassifier\n"
   ]
  },
  {
   "cell_type": "code",
   "execution_count": 12,
   "id": "bd8105c0",
   "metadata": {},
   "outputs": [],
   "source": [
    "rank = pd.read_excel('fifa_ranking-2022-10-06.xlsx')\n",
    "\n",
    "results = pd.read_excel('results.xlsx', \n",
    "                   sheet_name = 'results_1993_2022')"
   ]
  },
  {
   "cell_type": "code",
   "execution_count": 25,
   "id": "6bf5a7cc",
   "metadata": {},
   "outputs": [],
   "source": [
    "# rank\n",
    "# results"
   ]
  },
  {
   "cell_type": "code",
   "execution_count": 20,
   "id": "69dfb5cd",
   "metadata": {},
   "outputs": [
    {
     "name": "stderr",
     "output_type": "stream",
     "text": [
      "C:\\Users\\asiaz\\AppData\\Local\\Temp\\ipykernel_644\\686105333.py:14: SettingWithCopyWarning: \n",
      "A value is trying to be set on a copy of a slice from a DataFrame.\n",
      "Try using .loc[row_indexer,col_indexer] = value instead\n",
      "\n",
      "See the caveats in the documentation: https://pandas.pydata.org/pandas-docs/stable/user_guide/indexing.html#returning-a-view-versus-a-copy\n",
      "  rank['country_full'] = rank['country_full'].apply(lambda x: full_name(x))\n"
     ]
    }
   ],
   "source": [
    "rank = rank[[\"country_full\", \"total_points\", \"rank_date\"]]\n",
    "# rank[\"country_full\"] = rank[\"country_full\"].str.replace(\"IR Iran\", \"Iran\").str.replace(\"Korea Republic\", \"South Korea\").str.replace(\"USA\", \"United States\")\n",
    "\n",
    "def full_name(country):\n",
    "    if country == 'IR Iran':\n",
    "        return 'Iran'\n",
    "    elif country == \"Korea Republic\":\n",
    "        return 'South Korea'\n",
    "    elif country == 'USA':\n",
    "        return 'United States'\n",
    "    else:\n",
    "        return country\n",
    "\n",
    "rank['country_full'] = rank['country_full'].apply(lambda x: full_name(x))\n",
    "# rank"
   ]
  },
  {
   "cell_type": "code",
   "execution_count": 26,
   "id": "02d4ffd3",
   "metadata": {},
   "outputs": [
    {
     "data": {
      "text/html": [
       "<div>\n",
       "<style scoped>\n",
       "    .dataframe tbody tr th:only-of-type {\n",
       "        vertical-align: middle;\n",
       "    }\n",
       "\n",
       "    .dataframe tbody tr th {\n",
       "        vertical-align: top;\n",
       "    }\n",
       "\n",
       "    .dataframe thead th {\n",
       "        text-align: right;\n",
       "    }\n",
       "</style>\n",
       "<table border=\"1\" class=\"dataframe\">\n",
       "  <thead>\n",
       "    <tr style=\"text-align: right;\">\n",
       "      <th></th>\n",
       "      <th>country_full</th>\n",
       "      <th>total_points</th>\n",
       "      <th>rank_date</th>\n",
       "    </tr>\n",
       "  </thead>\n",
       "  <tbody>\n",
       "    <tr>\n",
       "      <th>0</th>\n",
       "      <td>Germany</td>\n",
       "      <td>57.00</td>\n",
       "      <td>1992-12-31</td>\n",
       "    </tr>\n",
       "    <tr>\n",
       "      <th>1</th>\n",
       "      <td>Syria</td>\n",
       "      <td>11.00</td>\n",
       "      <td>1992-12-31</td>\n",
       "    </tr>\n",
       "    <tr>\n",
       "      <th>2</th>\n",
       "      <td>Burkina Faso</td>\n",
       "      <td>11.00</td>\n",
       "      <td>1992-12-31</td>\n",
       "    </tr>\n",
       "    <tr>\n",
       "      <th>3</th>\n",
       "      <td>Latvia</td>\n",
       "      <td>10.00</td>\n",
       "      <td>1992-12-31</td>\n",
       "    </tr>\n",
       "    <tr>\n",
       "      <th>4</th>\n",
       "      <td>Burundi</td>\n",
       "      <td>10.00</td>\n",
       "      <td>1992-12-31</td>\n",
       "    </tr>\n",
       "    <tr>\n",
       "      <th>...</th>\n",
       "      <td>...</td>\n",
       "      <td>...</td>\n",
       "      <td>...</td>\n",
       "    </tr>\n",
       "    <tr>\n",
       "      <th>63911</th>\n",
       "      <td>El Salvador</td>\n",
       "      <td>1330.51</td>\n",
       "      <td>2022-10-06</td>\n",
       "    </tr>\n",
       "    <tr>\n",
       "      <th>63912</th>\n",
       "      <td>Oman</td>\n",
       "      <td>1320.29</td>\n",
       "      <td>2022-10-06</td>\n",
       "    </tr>\n",
       "    <tr>\n",
       "      <th>63913</th>\n",
       "      <td>Israel</td>\n",
       "      <td>1316.55</td>\n",
       "      <td>2022-10-06</td>\n",
       "    </tr>\n",
       "    <tr>\n",
       "      <th>63914</th>\n",
       "      <td>Georgia</td>\n",
       "      <td>1307.34</td>\n",
       "      <td>2022-10-06</td>\n",
       "    </tr>\n",
       "    <tr>\n",
       "      <th>63915</th>\n",
       "      <td>San Marino</td>\n",
       "      <td>762.22</td>\n",
       "      <td>2022-10-06</td>\n",
       "    </tr>\n",
       "  </tbody>\n",
       "</table>\n",
       "<p>63916 rows × 3 columns</p>\n",
       "</div>"
      ],
      "text/plain": [
       "       country_full  total_points  rank_date\n",
       "0           Germany         57.00 1992-12-31\n",
       "1             Syria         11.00 1992-12-31\n",
       "2      Burkina Faso         11.00 1992-12-31\n",
       "3            Latvia         10.00 1992-12-31\n",
       "4           Burundi         10.00 1992-12-31\n",
       "...             ...           ...        ...\n",
       "63911   El Salvador       1330.51 2022-10-06\n",
       "63912          Oman       1320.29 2022-10-06\n",
       "63913        Israel       1316.55 2022-10-06\n",
       "63914       Georgia       1307.34 2022-10-06\n",
       "63915    San Marino        762.22 2022-10-06\n",
       "\n",
       "[63916 rows x 3 columns]"
      ]
     },
     "execution_count": 26,
     "metadata": {},
     "output_type": "execute_result"
    }
   ],
   "source": [
    "rank"
   ]
  },
  {
   "cell_type": "code",
   "execution_count": 30,
   "id": "95672138",
   "metadata": {},
   "outputs": [
    {
     "data": {
      "text/html": [
       "<div>\n",
       "<style scoped>\n",
       "    .dataframe tbody tr th:only-of-type {\n",
       "        vertical-align: middle;\n",
       "    }\n",
       "\n",
       "    .dataframe tbody tr th {\n",
       "        vertical-align: top;\n",
       "    }\n",
       "\n",
       "    .dataframe thead th {\n",
       "        text-align: right;\n",
       "    }\n",
       "</style>\n",
       "<table border=\"1\" class=\"dataframe\">\n",
       "  <thead>\n",
       "    <tr style=\"text-align: right;\">\n",
       "      <th></th>\n",
       "      <th>date</th>\n",
       "      <th>home_team</th>\n",
       "      <th>away_team</th>\n",
       "      <th>home_score</th>\n",
       "      <th>away_score</th>\n",
       "      <th>tournament</th>\n",
       "    </tr>\n",
       "  </thead>\n",
       "  <tbody>\n",
       "    <tr>\n",
       "      <th>0</th>\n",
       "      <td>1993-01-01</td>\n",
       "      <td>Ghana</td>\n",
       "      <td>Mali</td>\n",
       "      <td>1.0</td>\n",
       "      <td>1.0</td>\n",
       "      <td>Friendly</td>\n",
       "    </tr>\n",
       "    <tr>\n",
       "      <th>1</th>\n",
       "      <td>1993-01-02</td>\n",
       "      <td>Gabon</td>\n",
       "      <td>Burkina Faso</td>\n",
       "      <td>1.0</td>\n",
       "      <td>1.0</td>\n",
       "      <td>Friendly</td>\n",
       "    </tr>\n",
       "    <tr>\n",
       "      <th>2</th>\n",
       "      <td>1993-01-02</td>\n",
       "      <td>Kuwait</td>\n",
       "      <td>Lebanon</td>\n",
       "      <td>2.0</td>\n",
       "      <td>0.0</td>\n",
       "      <td>Friendly</td>\n",
       "    </tr>\n",
       "    <tr>\n",
       "      <th>3</th>\n",
       "      <td>1993-01-03</td>\n",
       "      <td>Burkina Faso</td>\n",
       "      <td>Mali</td>\n",
       "      <td>1.0</td>\n",
       "      <td>0.0</td>\n",
       "      <td>Friendly</td>\n",
       "    </tr>\n",
       "    <tr>\n",
       "      <th>4</th>\n",
       "      <td>1993-01-03</td>\n",
       "      <td>Gabon</td>\n",
       "      <td>Ghana</td>\n",
       "      <td>2.0</td>\n",
       "      <td>3.0</td>\n",
       "      <td>Friendly</td>\n",
       "    </tr>\n",
       "    <tr>\n",
       "      <th>...</th>\n",
       "      <td>...</td>\n",
       "      <td>...</td>\n",
       "      <td>...</td>\n",
       "      <td>...</td>\n",
       "      <td>...</td>\n",
       "      <td>...</td>\n",
       "    </tr>\n",
       "    <tr>\n",
       "      <th>26357</th>\n",
       "      <td>2022-09-27</td>\n",
       "      <td>Norway</td>\n",
       "      <td>Serbia</td>\n",
       "      <td>0.0</td>\n",
       "      <td>2.0</td>\n",
       "      <td>UEFA Nations League</td>\n",
       "    </tr>\n",
       "    <tr>\n",
       "      <th>26358</th>\n",
       "      <td>2022-09-27</td>\n",
       "      <td>Sweden</td>\n",
       "      <td>Slovenia</td>\n",
       "      <td>1.0</td>\n",
       "      <td>1.0</td>\n",
       "      <td>UEFA Nations League</td>\n",
       "    </tr>\n",
       "    <tr>\n",
       "      <th>26359</th>\n",
       "      <td>2022-09-27</td>\n",
       "      <td>Kosovo</td>\n",
       "      <td>Cyprus</td>\n",
       "      <td>5.0</td>\n",
       "      <td>1.0</td>\n",
       "      <td>UEFA Nations League</td>\n",
       "    </tr>\n",
       "    <tr>\n",
       "      <th>26360</th>\n",
       "      <td>2022-09-27</td>\n",
       "      <td>Greece</td>\n",
       "      <td>Northern Ireland</td>\n",
       "      <td>3.0</td>\n",
       "      <td>1.0</td>\n",
       "      <td>UEFA Nations League</td>\n",
       "    </tr>\n",
       "    <tr>\n",
       "      <th>26361</th>\n",
       "      <td>2022-09-30</td>\n",
       "      <td>Fiji</td>\n",
       "      <td>Solomon Islands</td>\n",
       "      <td>NaN</td>\n",
       "      <td>NaN</td>\n",
       "      <td>MSG Prime Minister's Cup</td>\n",
       "    </tr>\n",
       "  </tbody>\n",
       "</table>\n",
       "<p>26362 rows × 6 columns</p>\n",
       "</div>"
      ],
      "text/plain": [
       "            date     home_team         away_team  home_score  away_score  \\\n",
       "0     1993-01-01         Ghana              Mali         1.0         1.0   \n",
       "1     1993-01-02         Gabon      Burkina Faso         1.0         1.0   \n",
       "2     1993-01-02        Kuwait           Lebanon         2.0         0.0   \n",
       "3     1993-01-03  Burkina Faso              Mali         1.0         0.0   \n",
       "4     1993-01-03         Gabon             Ghana         2.0         3.0   \n",
       "...          ...           ...               ...         ...         ...   \n",
       "26357 2022-09-27        Norway            Serbia         0.0         2.0   \n",
       "26358 2022-09-27        Sweden          Slovenia         1.0         1.0   \n",
       "26359 2022-09-27        Kosovo            Cyprus         5.0         1.0   \n",
       "26360 2022-09-27        Greece  Northern Ireland         3.0         1.0   \n",
       "26361 2022-09-30          Fiji   Solomon Islands         NaN         NaN   \n",
       "\n",
       "                     tournament  \n",
       "0                      Friendly  \n",
       "1                      Friendly  \n",
       "2                      Friendly  \n",
       "3                      Friendly  \n",
       "4                      Friendly  \n",
       "...                         ...  \n",
       "26357       UEFA Nations League  \n",
       "26358       UEFA Nations League  \n",
       "26359       UEFA Nations League  \n",
       "26360       UEFA Nations League  \n",
       "26361  MSG Prime Minister's Cup  \n",
       "\n",
       "[26362 rows x 6 columns]"
      ]
     },
     "execution_count": 30,
     "metadata": {},
     "output_type": "execute_result"
    }
   ],
   "source": [
    "results = results[[\"date\", \"home_team\", \"away_team\", \"home_score\", \"away_score\", \"tournament\"]]\n",
    "results"
   ]
  },
  {
   "cell_type": "code",
   "execution_count": 31,
   "id": "57040229",
   "metadata": {},
   "outputs": [],
   "source": [
    "unique = rank.rank_date.unique()\n",
    "results[\"last_rank_date\"] = \"\""
   ]
  },
  {
   "cell_type": "code",
   "execution_count": 32,
   "id": "624fe25c",
   "metadata": {},
   "outputs": [
    {
     "name": "stderr",
     "output_type": "stream",
     "text": [
      "C:\\Users\\asiaz\\AppData\\Local\\Temp\\ipykernel_644\\3818921293.py:4: SettingWithCopyWarning: \n",
      "A value is trying to be set on a copy of a slice from a DataFrame\n",
      "\n",
      "See the caveats in the documentation: https://pandas.pydata.org/pandas-docs/stable/user_guide/indexing.html#returning-a-view-versus-a-copy\n",
      "  results.last_rank_date[j] = unique[i-1]\n"
     ]
    }
   ],
   "source": [
    "for j in range(len(results.date)):\n",
    "    for i in range(len(unique)):\n",
    "        if unique[i] > results.date[j]:\n",
    "            results.last_rank_date[j] = unique[i-1]\n",
    "            break\n",
    "        "
   ]
  },
  {
   "cell_type": "code",
   "execution_count": 7,
   "id": "f8ea8369",
   "metadata": {},
   "outputs": [
    {
     "name": "stdout",
     "output_type": "stream",
     "text": [
      "<class 'numpy.datetime64'>\n",
      "<class 'pandas._libs.tslibs.timestamps.Timestamp'>\n"
     ]
    }
   ],
   "source": [
    "print(type(results.last_rank_date[0]))\n",
    "print(type(rank.rank_date[0]))"
   ]
  },
  {
   "cell_type": "code",
   "execution_count": 8,
   "id": "820cba79",
   "metadata": {},
   "outputs": [],
   "source": [
    "rank[\"rank_date\"] = pd.to_datetime(rank[\"rank_date\"])\n",
    "results[\"last_rank_date\"] = pd.to_datetime(results[\"last_rank_date\"])"
   ]
  },
  {
   "cell_type": "code",
   "execution_count": 9,
   "id": "8c2099bb",
   "metadata": {},
   "outputs": [],
   "source": [
    "df = results.merge(rank[[\"country_full\", \"total_points\", \"rank_date\"]]\n",
    "                   , left_on=[\"last_rank_date\", \"home_team\"]\n",
    "                   , right_on=[\"rank_date\", \"country_full\"]).drop([\"rank_date\", \"country_full\"], axis=1)\n",
    "\n",
    "df = df.merge(rank[[\"country_full\", \"total_points\", \"rank_date\"]]\n",
    "              , left_on=[\"last_rank_date\", \"away_team\"]\n",
    "              , right_on=[\"rank_date\", \"country_full\"]\n",
    "              , suffixes=(\"_home\", \"_away\")).drop([\"rank_date\", \"country_full\"], axis=1)\n"
   ]
  },
  {
   "cell_type": "markdown",
   "id": "90c4a069",
   "metadata": {},
   "source": [
    "# Tworzenie zmiennych do modelu"
   ]
  },
  {
   "cell_type": "code",
   "execution_count": 10,
   "id": "4796cfb4",
   "metadata": {},
   "outputs": [],
   "source": [
    "df[\"outcome_home\"] = \"\"\n",
    "df[\"outcome_away\"] = \"\""
   ]
  },
  {
   "cell_type": "code",
   "execution_count": 11,
   "id": "02b6d472",
   "metadata": {},
   "outputs": [
    {
     "name": "stderr",
     "output_type": "stream",
     "text": [
      "C:\\Users\\asiaz\\AppData\\Local\\Temp\\ipykernel_11532\\3457084191.py:13: SettingWithCopyWarning: \n",
      "A value is trying to be set on a copy of a slice from a DataFrame\n",
      "\n",
      "See the caveats in the documentation: https://pandas.pydata.org/pandas-docs/stable/user_guide/indexing.html#returning-a-view-versus-a-copy\n",
      "  df.outcome_home[i] = 2\n",
      "C:\\Users\\asiaz\\AppData\\Local\\Temp\\ipykernel_11532\\3457084191.py:14: SettingWithCopyWarning: \n",
      "A value is trying to be set on a copy of a slice from a DataFrame\n",
      "\n",
      "See the caveats in the documentation: https://pandas.pydata.org/pandas-docs/stable/user_guide/indexing.html#returning-a-view-versus-a-copy\n",
      "  df.outcome_away[i] = 2\n",
      "C:\\Users\\asiaz\\AppData\\Local\\Temp\\ipykernel_11532\\3457084191.py:10: SettingWithCopyWarning: \n",
      "A value is trying to be set on a copy of a slice from a DataFrame\n",
      "\n",
      "See the caveats in the documentation: https://pandas.pydata.org/pandas-docs/stable/user_guide/indexing.html#returning-a-view-versus-a-copy\n",
      "  df.outcome_home[i] = 0\n",
      "C:\\Users\\asiaz\\AppData\\Local\\Temp\\ipykernel_11532\\3457084191.py:11: SettingWithCopyWarning: \n",
      "A value is trying to be set on a copy of a slice from a DataFrame\n",
      "\n",
      "See the caveats in the documentation: https://pandas.pydata.org/pandas-docs/stable/user_guide/indexing.html#returning-a-view-versus-a-copy\n",
      "  df.outcome_away[i] = 1\n",
      "C:\\Users\\asiaz\\AppData\\Local\\Temp\\ipykernel_11532\\3457084191.py:7: SettingWithCopyWarning: \n",
      "A value is trying to be set on a copy of a slice from a DataFrame\n",
      "\n",
      "See the caveats in the documentation: https://pandas.pydata.org/pandas-docs/stable/user_guide/indexing.html#returning-a-view-versus-a-copy\n",
      "  df.outcome_home[i] = 1\n",
      "C:\\Users\\asiaz\\AppData\\Local\\Temp\\ipykernel_11532\\3457084191.py:8: SettingWithCopyWarning: \n",
      "A value is trying to be set on a copy of a slice from a DataFrame\n",
      "\n",
      "See the caveats in the documentation: https://pandas.pydata.org/pandas-docs/stable/user_guide/indexing.html#returning-a-view-versus-a-copy\n",
      "  df.outcome_away[i] = 0\n"
     ]
    }
   ],
   "source": [
    "# 0 - przegrana\n",
    "# 1 - wygrana\n",
    "# 2 - remis\n",
    "\n",
    "for i in range(len(df.away_score)):\n",
    "    if df.home_score[i] > df.away_score[i]:\n",
    "        df.outcome_home[i] = 1\n",
    "        df.outcome_away[i] = 0\n",
    "    elif df.home_score[i] < df.away_score[i]:\n",
    "        df.outcome_home[i] = 0\n",
    "        df.outcome_away[i] = 1\n",
    "    else:\n",
    "        df.outcome_home[i] = 2\n",
    "        df.outcome_away[i] = 2\n"
   ]
  },
  {
   "cell_type": "code",
   "execution_count": 12,
   "id": "7748f37f",
   "metadata": {},
   "outputs": [],
   "source": [
    "df[\"pt_diff_H_a\"] = \"\"\n",
    "df[\"pt_diff_H_a_proc\"] = \"\"\n",
    "\n",
    "# pt_diff_H_a          - nominalna różnica liczby punktów home - away\n",
    "# pt_diff_H_a_proc     - procentowa różnica liczby punktów home - away"
   ]
  },
  {
   "cell_type": "code",
   "execution_count": 13,
   "id": "9ae5d8a1",
   "metadata": {},
   "outputs": [
    {
     "name": "stderr",
     "output_type": "stream",
     "text": [
      "C:\\Users\\asiaz\\AppData\\Local\\Temp\\ipykernel_11532\\2855237838.py:2: SettingWithCopyWarning: \n",
      "A value is trying to be set on a copy of a slice from a DataFrame\n",
      "\n",
      "See the caveats in the documentation: https://pandas.pydata.org/pandas-docs/stable/user_guide/indexing.html#returning-a-view-versus-a-copy\n",
      "  df.pt_diff_H_a[i] = df.total_points_home[i] - df.total_points_away[i]\n",
      "C:\\Users\\asiaz\\AppData\\Local\\Temp\\ipykernel_11532\\2855237838.py:3: SettingWithCopyWarning: \n",
      "A value is trying to be set on a copy of a slice from a DataFrame\n",
      "\n",
      "See the caveats in the documentation: https://pandas.pydata.org/pandas-docs/stable/user_guide/indexing.html#returning-a-view-versus-a-copy\n",
      "  df.pt_diff_H_a_proc[i] = round((df.pt_diff_H_a[i] / df.total_points_away[i]) * 100, 2)\n"
     ]
    }
   ],
   "source": [
    "for i in range(len(df.total_points_home)):\n",
    "    df.pt_diff_H_a[i] = df.total_points_home[i] - df.total_points_away[i]\n",
    "    df.pt_diff_H_a_proc[i] = round((df.pt_diff_H_a[i] / df.total_points_away[i]) * 100, 2)\n"
   ]
  },
  {
   "cell_type": "code",
   "execution_count": 14,
   "id": "8caabee5",
   "metadata": {},
   "outputs": [],
   "source": [
    "df[\"friendly_0\"] = \"\""
   ]
  },
  {
   "cell_type": "code",
   "execution_count": 15,
   "id": "35de432d",
   "metadata": {},
   "outputs": [
    {
     "name": "stderr",
     "output_type": "stream",
     "text": [
      "C:\\Users\\asiaz\\AppData\\Local\\Temp\\ipykernel_11532\\2106778882.py:3: SettingWithCopyWarning: \n",
      "A value is trying to be set on a copy of a slice from a DataFrame\n",
      "\n",
      "See the caveats in the documentation: https://pandas.pydata.org/pandas-docs/stable/user_guide/indexing.html#returning-a-view-versus-a-copy\n",
      "  df.friendly_0[i] = 0\n",
      "C:\\Users\\asiaz\\AppData\\Local\\Temp\\ipykernel_11532\\2106778882.py:5: SettingWithCopyWarning: \n",
      "A value is trying to be set on a copy of a slice from a DataFrame\n",
      "\n",
      "See the caveats in the documentation: https://pandas.pydata.org/pandas-docs/stable/user_guide/indexing.html#returning-a-view-versus-a-copy\n",
      "  df.friendly_0[i] = 1\n"
     ]
    }
   ],
   "source": [
    "for i in range(len(df.tournament)):\n",
    "    if df.tournament[i] == \"Friendly\":\n",
    "        df.friendly_0[i] = 0\n",
    "    else:\n",
    "        df.friendly_0[i] = 1\n"
   ]
  },
  {
   "cell_type": "code",
   "execution_count": 16,
   "id": "8cf205d3",
   "metadata": {},
   "outputs": [],
   "source": [
    "df[\"last_10_H_w_proc\"] = 0\n",
    "df[\"last_10_A_w_proc\"] = 0"
   ]
  },
  {
   "cell_type": "code",
   "execution_count": 17,
   "id": "7b799385",
   "metadata": {},
   "outputs": [
    {
     "name": "stderr",
     "output_type": "stream",
     "text": [
      "C:\\Users\\asiaz\\AppData\\Local\\Temp\\ipykernel_11532\\1662441603.py:16: SettingWithCopyWarning: \n",
      "A value is trying to be set on a copy of a slice from a DataFrame\n",
      "\n",
      "See the caveats in the documentation: https://pandas.pydata.org/pandas-docs/stable/user_guide/indexing.html#returning-a-view-versus-a-copy\n",
      "  df.last_10_H_w_proc[index] = 100 * (last_10_H_wins / len(last_10_home))\n",
      "C:\\Users\\asiaz\\AppData\\Local\\Temp\\ipykernel_11532\\1662441603.py:19: SettingWithCopyWarning: \n",
      "A value is trying to be set on a copy of a slice from a DataFrame\n",
      "\n",
      "See the caveats in the documentation: https://pandas.pydata.org/pandas-docs/stable/user_guide/indexing.html#returning-a-view-versus-a-copy\n",
      "  df.last_10_A_w_proc[index] = 100 * (last_10_A_wins / len(last_10_away))\n"
     ]
    }
   ],
   "source": [
    "for index, row in df.iterrows():\n",
    "    home_team = row[\"home_team\"]\n",
    "    away_team = row[\"away_team\"]\n",
    "    date = row[\"date\"]\n",
    "    \n",
    "    prev_games_home = df[(df[\"home_team\"] == home_team) & (df[\"date\"] < date)].sort_values(by = ['date'], ascending = False)\n",
    "    prev_games_away = df[(df[\"away_team\"] == away_team) & (df[\"date\"] < date)].sort_values(by = ['date'], ascending = False)\n",
    "    \n",
    "    last_10_home = prev_games_home.head(10)\n",
    "    last_10_away = prev_games_away.head(10)\n",
    "    \n",
    "    last_10_H_wins = len(last_10_home[(last_10_home[\"outcome_home\"] == 1)])\n",
    "    last_10_A_wins = len(last_10_away[(last_10_away[\"outcome_away\"] == 1)])\n",
    "            \n",
    "    if len(last_10_home) > 0:\n",
    "        df.last_10_H_w_proc[index] = 100 * (last_10_H_wins / len(last_10_home))\n",
    "        \n",
    "    if len(last_10_away) > 0:\n",
    "        df.last_10_A_w_proc[index] = 100 * (last_10_A_wins / len(last_10_away))\n",
    "           "
   ]
  },
  {
   "cell_type": "code",
   "execution_count": 18,
   "id": "65285cb3",
   "metadata": {},
   "outputs": [],
   "source": [
    "df[\"win_diff_pproc\"] = \"\""
   ]
  },
  {
   "cell_type": "code",
   "execution_count": 19,
   "id": "8215845d",
   "metadata": {},
   "outputs": [
    {
     "name": "stderr",
     "output_type": "stream",
     "text": [
      "C:\\Users\\asiaz\\AppData\\Local\\Temp\\ipykernel_11532\\4192977295.py:2: SettingWithCopyWarning: \n",
      "A value is trying to be set on a copy of a slice from a DataFrame\n",
      "\n",
      "See the caveats in the documentation: https://pandas.pydata.org/pandas-docs/stable/user_guide/indexing.html#returning-a-view-versus-a-copy\n",
      "  df.win_diff_pproc[i] = df.last_10_H_w_proc[i] - df.last_10_A_w_proc[i]\n"
     ]
    }
   ],
   "source": [
    "for i in range(len(df.last_10_H_w_proc)):\n",
    "    df.win_diff_pproc[i] = df.last_10_H_w_proc[i] - df.last_10_A_w_proc[i]"
   ]
  },
  {
   "cell_type": "markdown",
   "id": "a145cb1e",
   "metadata": {},
   "source": [
    "# Dane 1 rundy fazy grupowej"
   ]
  },
  {
   "cell_type": "code",
   "execution_count": 20,
   "id": "b296ce87",
   "metadata": {},
   "outputs": [],
   "source": [
    "WC22_data = {\"home_team\": [\"Qatar\", \"England\", \"Senegal\", \"United States\", \"Argentina\", \"Denmark\", \"Mexico\", \"France\", \"Morocco\", \"Germany\", \"Spain\", \"Belgium\", \"Switzerland\", \"Uruguay\", \"Portugal\", \"Brazil\"]\n",
    "             , \"away_team\": [\"Ecuador\", \"Iran\", \"Netherlands\", \"Wales\", \"Saudi Arabia\", \"Tunisia\", \"Poland\", \"Australia\", \"Croatia\", \"Japan\", \"Costa Rica\", \"Canada\", \"Cameroon\", \"South Korea\", \"Ghana\", \"Serbia\"]\n",
    "             , \"last_rank_date\": [\"2022-10-06\", \"2022-10-06\", \"2022-10-06\", \"2022-10-06\", \"2022-10-06\", \"2022-10-06\", \"2022-10-06\", \"2022-10-06\", \"2022-10-06\", \"2022-10-06\", \"2022-10-06\", \"2022-10-06\", \"2022-10-06\", \"2022-10-06\", \"2022-10-06\", \"2022-10-06\"]\n",
    "             , \"friendly_0\": [1, 1, 1, 1, 1, 1, 1, 1, 1, 1, 1, 1, 1, 1, 1, 1]\n",
    "             , \"last_10_H_w_proc\": [50, 60, 40, 10, 80, 70, 50, 50, 40, 50, 60, 60, 60, 40, 80, 80]\n",
    "             , \"last_10_A_w_proc\": [50, 80, 70, 30, 60, 50, 30, 50, 60, 70, 70, 90, 60, 70, 70, 60]}\n",
    "\n",
    "WC22 = pd.DataFrame(data = WC22_data)"
   ]
  },
  {
   "cell_type": "code",
   "execution_count": 21,
   "id": "34289c8b",
   "metadata": {},
   "outputs": [],
   "source": [
    "WC22[\"win_diff_pproc\"] = \"\""
   ]
  },
  {
   "cell_type": "code",
   "execution_count": 22,
   "id": "f0f47d62",
   "metadata": {},
   "outputs": [
    {
     "name": "stderr",
     "output_type": "stream",
     "text": [
      "C:\\Users\\asiaz\\AppData\\Local\\Temp\\ipykernel_11532\\3183629146.py:2: SettingWithCopyWarning: \n",
      "A value is trying to be set on a copy of a slice from a DataFrame\n",
      "\n",
      "See the caveats in the documentation: https://pandas.pydata.org/pandas-docs/stable/user_guide/indexing.html#returning-a-view-versus-a-copy\n",
      "  WC22.win_diff_pproc[i] = WC22.last_10_H_w_proc[i] - WC22.last_10_A_w_proc[i]\n"
     ]
    }
   ],
   "source": [
    "for i in range(len(WC22.last_10_H_w_proc)):\n",
    "    WC22.win_diff_pproc[i] = WC22.last_10_H_w_proc[i] - WC22.last_10_A_w_proc[i]"
   ]
  },
  {
   "cell_type": "code",
   "execution_count": 23,
   "id": "f9cd7f02",
   "metadata": {},
   "outputs": [],
   "source": [
    "WC22[\"last_rank_date\"] = pd.to_datetime(WC22[\"last_rank_date\"])\n",
    "\n",
    "WC22 = WC22.merge(rank[[\"country_full\", \"total_points\", \"rank_date\"]]\n",
    "                   , left_on=[\"last_rank_date\", \"home_team\"]\n",
    "                   , right_on=[\"rank_date\", \"country_full\"]).drop([\"rank_date\", \"country_full\"], axis=1)\n",
    "\n",
    "WC22 = WC22.merge(rank[[\"country_full\", \"total_points\", \"rank_date\"]]\n",
    "              , left_on=[\"last_rank_date\", \"away_team\"]\n",
    "              , right_on=[\"rank_date\", \"country_full\"]\n",
    "              , suffixes=(\"_home\", \"_away\")).drop([\"rank_date\", \"country_full\"], axis=1)\n",
    "\n",
    "WC22[\"pt_diff_H_a\"] = \"\"\n",
    "WC22[\"pt_diff_H_a_proc\"] = \"\"\n"
   ]
  },
  {
   "cell_type": "code",
   "execution_count": 24,
   "id": "76f8a369",
   "metadata": {
    "scrolled": true
   },
   "outputs": [
    {
     "name": "stderr",
     "output_type": "stream",
     "text": [
      "C:\\Users\\asiaz\\AppData\\Local\\Temp\\ipykernel_11532\\204613474.py:2: SettingWithCopyWarning: \n",
      "A value is trying to be set on a copy of a slice from a DataFrame\n",
      "\n",
      "See the caveats in the documentation: https://pandas.pydata.org/pandas-docs/stable/user_guide/indexing.html#returning-a-view-versus-a-copy\n",
      "  WC22.pt_diff_H_a[i] = WC22.total_points_home[i] - WC22.total_points_away[i]\n",
      "C:\\Users\\asiaz\\AppData\\Local\\Temp\\ipykernel_11532\\204613474.py:3: SettingWithCopyWarning: \n",
      "A value is trying to be set on a copy of a slice from a DataFrame\n",
      "\n",
      "See the caveats in the documentation: https://pandas.pydata.org/pandas-docs/stable/user_guide/indexing.html#returning-a-view-versus-a-copy\n",
      "  WC22.pt_diff_H_a_proc[i] = round((WC22.pt_diff_H_a[i] / WC22.total_points_away[i]) * 100, 2)\n"
     ]
    }
   ],
   "source": [
    "for i in range(len(WC22.total_points_home)):\n",
    "    WC22.pt_diff_H_a[i] = WC22.total_points_home[i] - WC22.total_points_away[i]\n",
    "    WC22.pt_diff_H_a_proc[i] = round((WC22.pt_diff_H_a[i] / WC22.total_points_away[i]) * 100, 2)\n",
    "    "
   ]
  },
  {
   "cell_type": "code",
   "execution_count": 25,
   "id": "a90da5c8",
   "metadata": {},
   "outputs": [],
   "source": [
    "X = df[[\"friendly_0\", \"pt_diff_H_a\", \"pt_diff_H_a_proc\", \"win_diff_pproc\"]]\n",
    "\n",
    "y = df[\"outcome_home\"].astype('int')"
   ]
  },
  {
   "cell_type": "code",
   "execution_count": 26,
   "id": "ec773db8",
   "metadata": {},
   "outputs": [],
   "source": [
    "X_train, X_test, y_train, y_test = train_test_split(X, y, test_size = 0.2, random_state = 1)"
   ]
  },
  {
   "cell_type": "markdown",
   "id": "4b455477",
   "metadata": {},
   "source": [
    "# Model, klasyfikator"
   ]
  },
  {
   "cell_type": "code",
   "execution_count": 27,
   "id": "ddbde4a1",
   "metadata": {},
   "outputs": [],
   "source": [
    "rf = RandomForestClassifier(n_estimators = 1000, random_state = 1)"
   ]
  },
  {
   "cell_type": "code",
   "execution_count": 28,
   "id": "c1020c9c",
   "metadata": {},
   "outputs": [
    {
     "data": {
      "text/html": [
       "<style>#sk-container-id-1 {color: black;background-color: white;}#sk-container-id-1 pre{padding: 0;}#sk-container-id-1 div.sk-toggleable {background-color: white;}#sk-container-id-1 label.sk-toggleable__label {cursor: pointer;display: block;width: 100%;margin-bottom: 0;padding: 0.3em;box-sizing: border-box;text-align: center;}#sk-container-id-1 label.sk-toggleable__label-arrow:before {content: \"▸\";float: left;margin-right: 0.25em;color: #696969;}#sk-container-id-1 label.sk-toggleable__label-arrow:hover:before {color: black;}#sk-container-id-1 div.sk-estimator:hover label.sk-toggleable__label-arrow:before {color: black;}#sk-container-id-1 div.sk-toggleable__content {max-height: 0;max-width: 0;overflow: hidden;text-align: left;background-color: #f0f8ff;}#sk-container-id-1 div.sk-toggleable__content pre {margin: 0.2em;color: black;border-radius: 0.25em;background-color: #f0f8ff;}#sk-container-id-1 input.sk-toggleable__control:checked~div.sk-toggleable__content {max-height: 200px;max-width: 100%;overflow: auto;}#sk-container-id-1 input.sk-toggleable__control:checked~label.sk-toggleable__label-arrow:before {content: \"▾\";}#sk-container-id-1 div.sk-estimator input.sk-toggleable__control:checked~label.sk-toggleable__label {background-color: #d4ebff;}#sk-container-id-1 div.sk-label input.sk-toggleable__control:checked~label.sk-toggleable__label {background-color: #d4ebff;}#sk-container-id-1 input.sk-hidden--visually {border: 0;clip: rect(1px 1px 1px 1px);clip: rect(1px, 1px, 1px, 1px);height: 1px;margin: -1px;overflow: hidden;padding: 0;position: absolute;width: 1px;}#sk-container-id-1 div.sk-estimator {font-family: monospace;background-color: #f0f8ff;border: 1px dotted black;border-radius: 0.25em;box-sizing: border-box;margin-bottom: 0.5em;}#sk-container-id-1 div.sk-estimator:hover {background-color: #d4ebff;}#sk-container-id-1 div.sk-parallel-item::after {content: \"\";width: 100%;border-bottom: 1px solid gray;flex-grow: 1;}#sk-container-id-1 div.sk-label:hover label.sk-toggleable__label {background-color: #d4ebff;}#sk-container-id-1 div.sk-serial::before {content: \"\";position: absolute;border-left: 1px solid gray;box-sizing: border-box;top: 0;bottom: 0;left: 50%;z-index: 0;}#sk-container-id-1 div.sk-serial {display: flex;flex-direction: column;align-items: center;background-color: white;padding-right: 0.2em;padding-left: 0.2em;position: relative;}#sk-container-id-1 div.sk-item {position: relative;z-index: 1;}#sk-container-id-1 div.sk-parallel {display: flex;align-items: stretch;justify-content: center;background-color: white;position: relative;}#sk-container-id-1 div.sk-item::before, #sk-container-id-1 div.sk-parallel-item::before {content: \"\";position: absolute;border-left: 1px solid gray;box-sizing: border-box;top: 0;bottom: 0;left: 50%;z-index: -1;}#sk-container-id-1 div.sk-parallel-item {display: flex;flex-direction: column;z-index: 1;position: relative;background-color: white;}#sk-container-id-1 div.sk-parallel-item:first-child::after {align-self: flex-end;width: 50%;}#sk-container-id-1 div.sk-parallel-item:last-child::after {align-self: flex-start;width: 50%;}#sk-container-id-1 div.sk-parallel-item:only-child::after {width: 0;}#sk-container-id-1 div.sk-dashed-wrapped {border: 1px dashed gray;margin: 0 0.4em 0.5em 0.4em;box-sizing: border-box;padding-bottom: 0.4em;background-color: white;}#sk-container-id-1 div.sk-label label {font-family: monospace;font-weight: bold;display: inline-block;line-height: 1.2em;}#sk-container-id-1 div.sk-label-container {text-align: center;}#sk-container-id-1 div.sk-container {/* jupyter's `normalize.less` sets `[hidden] { display: none; }` but bootstrap.min.css set `[hidden] { display: none !important; }` so we also need the `!important` here to be able to override the default hidden behavior on the sphinx rendered scikit-learn.org. See: https://github.com/scikit-learn/scikit-learn/issues/21755 */display: inline-block !important;position: relative;}#sk-container-id-1 div.sk-text-repr-fallback {display: none;}</style><div id=\"sk-container-id-1\" class=\"sk-top-container\"><div class=\"sk-text-repr-fallback\"><pre>RandomForestClassifier(n_estimators=1000, random_state=1)</pre><b>In a Jupyter environment, please rerun this cell to show the HTML representation or trust the notebook. <br />On GitHub, the HTML representation is unable to render, please try loading this page with nbviewer.org.</b></div><div class=\"sk-container\" hidden><div class=\"sk-item\"><div class=\"sk-estimator sk-toggleable\"><input class=\"sk-toggleable__control sk-hidden--visually\" id=\"sk-estimator-id-1\" type=\"checkbox\" checked><label for=\"sk-estimator-id-1\" class=\"sk-toggleable__label sk-toggleable__label-arrow\">RandomForestClassifier</label><div class=\"sk-toggleable__content\"><pre>RandomForestClassifier(n_estimators=1000, random_state=1)</pre></div></div></div></div></div>"
      ],
      "text/plain": [
       "RandomForestClassifier(n_estimators=1000, random_state=1)"
      ]
     },
     "execution_count": 28,
     "metadata": {},
     "output_type": "execute_result"
    }
   ],
   "source": [
    "rf.fit(X_train, y_train)"
   ]
  },
  {
   "cell_type": "code",
   "execution_count": 29,
   "id": "26751341",
   "metadata": {},
   "outputs": [],
   "source": [
    "test_pred = rf.predict(X_test)\n",
    "train_pred = rf.predict(X_train)"
   ]
  },
  {
   "cell_type": "code",
   "execution_count": 30,
   "id": "df8c2a1d",
   "metadata": {},
   "outputs": [
    {
     "name": "stdout",
     "output_type": "stream",
     "text": [
      "0.6 0.01\n"
     ]
    }
   ],
   "source": [
    "errors = abs(test_pred - y_test)\n",
    "mae = round(np.mean(errors) ,2)\n",
    "\n",
    "errors_train = abs(train_pred - y_train)\n",
    "mae_train = round(np.mean(errors_train) ,2)\n",
    "\n",
    "print(mae, mae_train)"
   ]
  },
  {
   "cell_type": "code",
   "execution_count": 31,
   "id": "205c3877",
   "metadata": {},
   "outputs": [
    {
     "name": "stdout",
     "output_type": "stream",
     "text": [
      "-inf -inf\n"
     ]
    }
   ],
   "source": [
    "mape = 100* (errors/y_test)\n",
    "acc = 100 - np.mean(mape)\n",
    "\n",
    "mape_train = 100 * (errors_train/y_train)\n",
    "acc_train = 100 - np.mean(mape_train)\n",
    "\n",
    "print(acc, acc_train)"
   ]
  },
  {
   "cell_type": "markdown",
   "id": "d96abb24",
   "metadata": {},
   "source": [
    "# Prognoza"
   ]
  },
  {
   "cell_type": "code",
   "execution_count": 32,
   "id": "6b425852",
   "metadata": {},
   "outputs": [
    {
     "data": {
      "text/html": [
       "<style>#sk-container-id-2 {color: black;background-color: white;}#sk-container-id-2 pre{padding: 0;}#sk-container-id-2 div.sk-toggleable {background-color: white;}#sk-container-id-2 label.sk-toggleable__label {cursor: pointer;display: block;width: 100%;margin-bottom: 0;padding: 0.3em;box-sizing: border-box;text-align: center;}#sk-container-id-2 label.sk-toggleable__label-arrow:before {content: \"▸\";float: left;margin-right: 0.25em;color: #696969;}#sk-container-id-2 label.sk-toggleable__label-arrow:hover:before {color: black;}#sk-container-id-2 div.sk-estimator:hover label.sk-toggleable__label-arrow:before {color: black;}#sk-container-id-2 div.sk-toggleable__content {max-height: 0;max-width: 0;overflow: hidden;text-align: left;background-color: #f0f8ff;}#sk-container-id-2 div.sk-toggleable__content pre {margin: 0.2em;color: black;border-radius: 0.25em;background-color: #f0f8ff;}#sk-container-id-2 input.sk-toggleable__control:checked~div.sk-toggleable__content {max-height: 200px;max-width: 100%;overflow: auto;}#sk-container-id-2 input.sk-toggleable__control:checked~label.sk-toggleable__label-arrow:before {content: \"▾\";}#sk-container-id-2 div.sk-estimator input.sk-toggleable__control:checked~label.sk-toggleable__label {background-color: #d4ebff;}#sk-container-id-2 div.sk-label input.sk-toggleable__control:checked~label.sk-toggleable__label {background-color: #d4ebff;}#sk-container-id-2 input.sk-hidden--visually {border: 0;clip: rect(1px 1px 1px 1px);clip: rect(1px, 1px, 1px, 1px);height: 1px;margin: -1px;overflow: hidden;padding: 0;position: absolute;width: 1px;}#sk-container-id-2 div.sk-estimator {font-family: monospace;background-color: #f0f8ff;border: 1px dotted black;border-radius: 0.25em;box-sizing: border-box;margin-bottom: 0.5em;}#sk-container-id-2 div.sk-estimator:hover {background-color: #d4ebff;}#sk-container-id-2 div.sk-parallel-item::after {content: \"\";width: 100%;border-bottom: 1px solid gray;flex-grow: 1;}#sk-container-id-2 div.sk-label:hover label.sk-toggleable__label {background-color: #d4ebff;}#sk-container-id-2 div.sk-serial::before {content: \"\";position: absolute;border-left: 1px solid gray;box-sizing: border-box;top: 0;bottom: 0;left: 50%;z-index: 0;}#sk-container-id-2 div.sk-serial {display: flex;flex-direction: column;align-items: center;background-color: white;padding-right: 0.2em;padding-left: 0.2em;position: relative;}#sk-container-id-2 div.sk-item {position: relative;z-index: 1;}#sk-container-id-2 div.sk-parallel {display: flex;align-items: stretch;justify-content: center;background-color: white;position: relative;}#sk-container-id-2 div.sk-item::before, #sk-container-id-2 div.sk-parallel-item::before {content: \"\";position: absolute;border-left: 1px solid gray;box-sizing: border-box;top: 0;bottom: 0;left: 50%;z-index: -1;}#sk-container-id-2 div.sk-parallel-item {display: flex;flex-direction: column;z-index: 1;position: relative;background-color: white;}#sk-container-id-2 div.sk-parallel-item:first-child::after {align-self: flex-end;width: 50%;}#sk-container-id-2 div.sk-parallel-item:last-child::after {align-self: flex-start;width: 50%;}#sk-container-id-2 div.sk-parallel-item:only-child::after {width: 0;}#sk-container-id-2 div.sk-dashed-wrapped {border: 1px dashed gray;margin: 0 0.4em 0.5em 0.4em;box-sizing: border-box;padding-bottom: 0.4em;background-color: white;}#sk-container-id-2 div.sk-label label {font-family: monospace;font-weight: bold;display: inline-block;line-height: 1.2em;}#sk-container-id-2 div.sk-label-container {text-align: center;}#sk-container-id-2 div.sk-container {/* jupyter's `normalize.less` sets `[hidden] { display: none; }` but bootstrap.min.css set `[hidden] { display: none !important; }` so we also need the `!important` here to be able to override the default hidden behavior on the sphinx rendered scikit-learn.org. See: https://github.com/scikit-learn/scikit-learn/issues/21755 */display: inline-block !important;position: relative;}#sk-container-id-2 div.sk-text-repr-fallback {display: none;}</style><div id=\"sk-container-id-2\" class=\"sk-top-container\"><div class=\"sk-text-repr-fallback\"><pre>RandomForestClassifier(n_estimators=1000, random_state=1)</pre><b>In a Jupyter environment, please rerun this cell to show the HTML representation or trust the notebook. <br />On GitHub, the HTML representation is unable to render, please try loading this page with nbviewer.org.</b></div><div class=\"sk-container\" hidden><div class=\"sk-item\"><div class=\"sk-estimator sk-toggleable\"><input class=\"sk-toggleable__control sk-hidden--visually\" id=\"sk-estimator-id-2\" type=\"checkbox\" checked><label for=\"sk-estimator-id-2\" class=\"sk-toggleable__label sk-toggleable__label-arrow\">RandomForestClassifier</label><div class=\"sk-toggleable__content\"><pre>RandomForestClassifier(n_estimators=1000, random_state=1)</pre></div></div></div></div></div>"
      ],
      "text/plain": [
       "RandomForestClassifier(n_estimators=1000, random_state=1)"
      ]
     },
     "execution_count": 32,
     "metadata": {},
     "output_type": "execute_result"
    }
   ],
   "source": [
    "rf.fit(X, y)"
   ]
  },
  {
   "cell_type": "code",
   "execution_count": 33,
   "id": "a0d5d4ae",
   "metadata": {},
   "outputs": [
    {
     "data": {
      "text/plain": [
       "array([1, 1, 0, 1, 1, 2, 1, 1, 2, 1, 1, 1, 1, 1, 1, 1])"
      ]
     },
     "execution_count": 33,
     "metadata": {},
     "output_type": "execute_result"
    }
   ],
   "source": [
    "WC22_pred = WC22[[\"friendly_0\", \"pt_diff_H_a\", \"pt_diff_H_a_proc\", \"win_diff_pproc\"]]\n",
    "\n",
    "preds = rf.predict(WC22_pred)\n",
    "\n",
    "preds"
   ]
  },
  {
   "cell_type": "markdown",
   "id": "90972ad4",
   "metadata": {},
   "source": [
    "0 - przegrana zespołu \"home_team\" z ramki WC22\n",
    "\n",
    "1 - wygrana zespołu \"home_team\" z ramki WC22\n",
    "\n",
    "2 - remis"
   ]
  },
  {
   "cell_type": "markdown",
   "id": "7595556e",
   "metadata": {},
   "source": [
    "1 - Qatar > Ecuador\n",
    "\n",
    "1 - England > Iran\n",
    "\n",
    "0 - Senegal < Netherlands\n",
    "\n",
    "1 - USA > Wales\n",
    "\n",
    "1 - Argentina > Saudi Arabia\n",
    "\n",
    "2 - Denmark = Tunisia\n",
    "\n",
    "1 - Mexico > Poland\n",
    "\n",
    "1 - France > Australia\n",
    "\n",
    "2 - Morocco = Croatia\n",
    "\n",
    "1 - Germany > Japan\n",
    "\n",
    "1 - Spain > Costa Rica\n",
    "\n",
    "1 - Belgium > Canada\n",
    "\n",
    "1 - Switzerland > Cameroon\n",
    "\n",
    "1 - Uruguay > South Korea\n",
    "\n",
    "1 - Portugal > Ghana\n",
    "\n",
    "1 - Brazil > Serbia"
   ]
  }
 ],
 "metadata": {
  "kernelspec": {
   "display_name": "Python 3 (ipykernel)",
   "language": "python",
   "name": "python3"
  },
  "language_info": {
   "codemirror_mode": {
    "name": "ipython",
    "version": 3
   },
   "file_extension": ".py",
   "mimetype": "text/x-python",
   "name": "python",
   "nbconvert_exporter": "python",
   "pygments_lexer": "ipython3",
   "version": "3.10.5"
  }
 },
 "nbformat": 4,
 "nbformat_minor": 5
}
